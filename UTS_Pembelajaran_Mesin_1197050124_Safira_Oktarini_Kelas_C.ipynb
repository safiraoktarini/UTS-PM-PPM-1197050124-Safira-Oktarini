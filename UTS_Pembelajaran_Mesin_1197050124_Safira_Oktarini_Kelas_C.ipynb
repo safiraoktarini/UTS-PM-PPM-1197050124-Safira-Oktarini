{
  "nbformat": 4,
  "nbformat_minor": 0,
  "metadata": {
    "colab": {
      "name": "UTS Pembelajaran Mesin 1197050124 Safira Oktarini Kelas C",
      "provenance": [],
      "collapsed_sections": []
    },
    "kernelspec": {
      "name": "python3",
      "display_name": "Python 3"
    },
    "language_info": {
      "name": "python"
    }
  },
  "cells": [
    {
      "cell_type": "markdown",
      "source": [
        "# UTS Pembelajaran Mesin\n",
        "\n",
        "Nama, NIM, Kelas : Safira Oktarini 1197050124 C"
      ],
      "metadata": {
        "id": "TON8XKSZ4meo"
      }
    },
    {
      "cell_type": "markdown",
      "source": [
        "#TOPIK MINI RISET\n",
        "\n",
        "Klasifikasi Efek dari gaya hidup sehat dan aktif secara fisik pada prestasi akademik dengan algoritma KNN (K-Nearest Neighbors)\n",
        "\n",
        "#Business Understanding\n",
        "\n",
        "1.   Latar Belakang Masalah\n",
        "\n",
        "    Jurnal kesehatan sering menghubungkan pentingnya gaya hidup sehat dan olah fisik pada hasil prestasi akademik seseorang. Namun dengan algoritma KNN hal tersebut belum tentu terbukti kebenarannya. karena itulah saya ingin membuktikan hubungan Efek dari gaya hidup sehat dan aktif secara fisik pada prestasi akademik dengan algoritma KNN (K-Nearest Neighbors).\n",
        "2.   Identifikasi Masalah\n",
        "\n",
        "    Adapun identifikasi masalah pada penelitian ini adalah rendahnya akurasi yang diperoleh dari database penelitian sebelumnya dan perspektif orang kebanyakan yang sudah terlanjur terlalu positif mengenai Efek dari gaya hidup sehat dan aktif secara fisik pada prestasi akademik, sehingga apabila pada akhir pengklasifikasian ini hasilnya tidak sesuai akan menyebabkan stigma kesalahan (citra yang berbeda)\n",
        "3. Metode Penyelesaian Masalah\n",
        "\n",
        "    Menggunakan metode Klasifikasi K-Nearest Neighbors (KNN)\n",
        "4. Tujuan Teknis dan Kriteria Kesuksesan\n",
        "\n",
        "    Tujuan dari algoritma k-NN adalah untuk mengklasifikasi objek baru berdasarkan atribut dan training samples. Dimana hasil dari sampel uji yang baru diklasifikasikan berdasarkan mayoritas dari kategori pada k-NN. Pada proses pengklasifikasian, algoritma ini tidak menggunakan model apapun untuk dicocokkan dan hanya berdasarkan pada memori. Algoritma k-NN menggunakan klasifikasi ketetanggaan sebagai nilai prediksi dari sampel uji yang baru.\n",
        "    Tujuan pengklasifikasian proyek ini yaitu untuk menentukan ketepatan hasil prediksi dari database yang telah ada.\n",
        "    Kriteria kesuksesannya berupa hasil dari ketepatan hasil dapat tampil tanpa eror berupa nilai keakuratan hasil prediksi (avg/total precision).\n",
        "5. Timeline Riset\n",
        "\n",
        "    Berikut adalah timeline dari riset mengenai Efek dari gaya hidup sehat dan aktif secara fisik pada prestasi akademik dengan algoritma KNN (K-Nearest Neighbors) :\n",
        "    *   Mencari dataset\n",
        "    *   Menentukan kasus\n",
        "    *   Studi literatur\n",
        "    *   Analisa sistem\n",
        "    *   Pembuatan sistem\n",
        "    *   Menyusun laporan\n",
        "\n",
        "\n",
        "\n",
        "\n",
        "\n",
        "\n",
        "\n",
        "\n"
      ],
      "metadata": {
        "id": "Vku_gzRW4sis"
      }
    },
    {
      "cell_type": "markdown",
      "source": [
        "#Data Understanding\n",
        "Pada proyek ini kita memerlukan kumpulan dataset yang berisi data kegiatan apa saja ynag dilakukan sample dalam melakukan gaya hidup sehat.\n",
        "Berikut rincian atribut/fitur/independent variable/kriteria:\n",
        "*   Key = Banyak sample (581 sample)\n",
        "*   Steps = Banyak langkah Sample dalam sehari\n",
        "*   Peak = Puncak keaktifan sample dalam melakukan gaya hidup sehat\n",
        "*   Cardio = Panjang waktu cardio Sample\n",
        "*   FatBurn = Banyaknya fatburn yang terbakar dalam aktivitas fisik sample\n",
        "*   Mode = Mode aktif/ pasif sample dalam melakukan gaya sehat (0=pasif, 1=aktif)\n",
        "*   Minutes = Panjang waktu Sample melakukan gaya hidup sehat\n",
        "*   Gender = Jenis Kelamin Sample\n",
        "*   Age = Umur sample \n",
        "*   GPA = Hail akademik"
      ],
      "metadata": {
        "id": "HOhbAfSt-QDU"
      }
    },
    {
      "cell_type": "markdown",
      "source": [
        "#Data Preparation\n"
      ],
      "metadata": {
        "id": "iwfmNi2V_Soc"
      }
    },
    {
      "cell_type": "code",
      "execution_count": 1,
      "metadata": {
        "colab": {
          "base_uri": "https://localhost:8080/",
          "height": 0
        },
        "id": "9z_GYo3_zC3m",
        "outputId": "6f535e86-b9d5-47e1-9cfc-338f875012ff"
      },
      "outputs": [
        {
          "output_type": "stream",
          "name": "stdout",
          "text": [
            "Requirement already satisfied: kaggle in /usr/local/lib/python3.7/dist-packages (1.5.12)\n",
            "Requirement already satisfied: certifi in /usr/local/lib/python3.7/dist-packages (from kaggle) (2021.10.8)\n",
            "Requirement already satisfied: six>=1.10 in /usr/local/lib/python3.7/dist-packages (from kaggle) (1.15.0)\n",
            "Requirement already satisfied: tqdm in /usr/local/lib/python3.7/dist-packages (from kaggle) (4.64.0)\n",
            "Requirement already satisfied: urllib3 in /usr/local/lib/python3.7/dist-packages (from kaggle) (1.24.3)\n",
            "Requirement already satisfied: python-slugify in /usr/local/lib/python3.7/dist-packages (from kaggle) (6.1.1)\n",
            "Requirement already satisfied: requests in /usr/local/lib/python3.7/dist-packages (from kaggle) (2.23.0)\n",
            "Requirement already satisfied: python-dateutil in /usr/local/lib/python3.7/dist-packages (from kaggle) (2.8.2)\n",
            "Requirement already satisfied: text-unidecode>=1.3 in /usr/local/lib/python3.7/dist-packages (from python-slugify->kaggle) (1.3)\n",
            "Requirement already satisfied: idna<3,>=2.5 in /usr/local/lib/python3.7/dist-packages (from requests->kaggle) (2.10)\n",
            "Requirement already satisfied: chardet<4,>=3.0.2 in /usr/local/lib/python3.7/dist-packages (from requests->kaggle) (3.0.4)\n"
          ]
        }
      ],
      "source": [
        "#install the dependencies\n",
        "!pip install kaggle"
      ]
    },
    {
      "cell_type": "code",
      "source": [
        "from google.colab import files\n",
        "files.upload( )"
      ],
      "metadata": {
        "colab": {
          "resources": {
            "http://localhost:8080/nbextensions/google.colab/files.js": {
              "data": "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",
              "ok": true,
              "headers": [
                [
                  "content-type",
                  "application/javascript"
                ]
              ],
              "status": 200,
              "status_text": ""
            }
          },
          "base_uri": "https://localhost:8080/",
          "height": 92
        },
        "id": "x11p8D0VzIum",
        "outputId": "0f6355f4-38ae-46c1-fe7c-20fccf261c3c"
      },
      "execution_count": 2,
      "outputs": [
        {
          "output_type": "display_data",
          "data": {
            "text/plain": [
              "<IPython.core.display.HTML object>"
            ],
            "text/html": [
              "\n",
              "     <input type=\"file\" id=\"files-6f4fb3a5-8cbb-4482-84b2-c15d92bea6b0\" name=\"files[]\" multiple disabled\n",
              "        style=\"border:none\" />\n",
              "     <output id=\"result-6f4fb3a5-8cbb-4482-84b2-c15d92bea6b0\">\n",
              "      Upload widget is only available when the cell has been executed in the\n",
              "      current browser session. Please rerun this cell to enable.\n",
              "      </output>\n",
              "      <script src=\"/nbextensions/google.colab/files.js\"></script> "
            ]
          },
          "metadata": {}
        },
        {
          "output_type": "stream",
          "name": "stdout",
          "text": [
            "Saving kaggle.json to kaggle.json\n"
          ]
        },
        {
          "output_type": "execute_result",
          "data": {
            "text/plain": [
              "{'kaggle.json': b'{\"username\":\"safiraoktarini\",\"key\":\"637b515f383f28d4361092db3ed8c54b\"}'}"
            ]
          },
          "metadata": {},
          "execution_count": 2
        }
      ]
    },
    {
      "cell_type": "code",
      "source": [
        "!mkdir -p ~/.kaggle\n",
        "!cp kaggle.json ~/.kaggle/\n",
        "\n",
        "#mengganti permission\n",
        "!chmod 600 ~/.kaggle/kaggle.json"
      ],
      "metadata": {
        "id": "XkE-bWapzJ_7"
      },
      "execution_count": 3,
      "outputs": []
    },
    {
      "cell_type": "code",
      "source": [
        "!kaggle datasets download -d aleespinosa/fitbits-fieldtests-and-grades"
      ],
      "metadata": {
        "colab": {
          "base_uri": "https://localhost:8080/",
          "height": 0
        },
        "id": "HOvh4S1nzNOt",
        "outputId": "aeaa1cd2-bc48-4738-f616-8337f2ccccbd"
      },
      "execution_count": 15,
      "outputs": [
        {
          "output_type": "stream",
          "name": "stdout",
          "text": [
            "Downloading fitbits-fieldtests-and-grades.zip to /content\n",
            "\r  0% 0.00/11.2k [00:00<?, ?B/s]\n",
            "\r100% 11.2k/11.2k [00:00<00:00, 7.32MB/s]\n"
          ]
        }
      ]
    },
    {
      "cell_type": "code",
      "source": [
        "from zipfile import ZipFile\n",
        "file_name = \"fitbits-fieldtests-and-grades.zip\"\n",
        "\n",
        "with ZipFile(file_name,'r') as zip:\n",
        "  zip.extractall()\n",
        "  print('Done')"
      ],
      "metadata": {
        "colab": {
          "base_uri": "https://localhost:8080/",
          "height": 0
        },
        "id": "S_WwPry-zhBa",
        "outputId": "6f15b5ba-6c2d-47db-99c0-8174da4bd8a0"
      },
      "execution_count": 17,
      "outputs": [
        {
          "output_type": "stream",
          "name": "stdout",
          "text": [
            "Done\n"
          ]
        }
      ]
    },
    {
      "cell_type": "code",
      "source": [
        "import pandas as pd\n",
        "df = pd.read_csv('FitbitsAndGradesData_Fall2017.csv')\n",
        "df.head( )"
      ],
      "metadata": {
        "colab": {
          "base_uri": "https://localhost:8080/",
          "height": 206
        },
        "id": "VFX-KVDSzQ4k",
        "outputId": "91f22e54-74dc-4875-d2c5-d8a63362927b"
      },
      "execution_count": 18,
      "outputs": [
        {
          "output_type": "execute_result",
          "data": {
            "text/plain": [
              "   Key  Steps  Peak  Cardio  FatBurn  Mode  Minutes  Gender  Age   GPA  \\\n",
              "0    1  11157  0.13    3.86   111.92     1     9.35       1   23  4.00   \n",
              "1    2   7986  2.72   15.53   249.29     1     8.20       1   18  3.26   \n",
              "2    3  11602  0.35    2.10   195.32     0    12.73       0   18  3.07   \n",
              "3    4  10609  1.00    6.51   121.75     1    10.00       1   17  4.00   \n",
              "4    5  14552  9.10    6.09   109.66     1     8.63       0   18  2.87   \n",
              "\n",
              "   Life Score  \n",
              "0          48  \n",
              "1         101  \n",
              "2          64  \n",
              "3          41  \n",
              "4          83  "
            ],
            "text/html": [
              "\n",
              "  <div id=\"df-dabb8b16-4b33-43d5-92fb-842799ecc707\">\n",
              "    <div class=\"colab-df-container\">\n",
              "      <div>\n",
              "<style scoped>\n",
              "    .dataframe tbody tr th:only-of-type {\n",
              "        vertical-align: middle;\n",
              "    }\n",
              "\n",
              "    .dataframe tbody tr th {\n",
              "        vertical-align: top;\n",
              "    }\n",
              "\n",
              "    .dataframe thead th {\n",
              "        text-align: right;\n",
              "    }\n",
              "</style>\n",
              "<table border=\"1\" class=\"dataframe\">\n",
              "  <thead>\n",
              "    <tr style=\"text-align: right;\">\n",
              "      <th></th>\n",
              "      <th>Key</th>\n",
              "      <th>Steps</th>\n",
              "      <th>Peak</th>\n",
              "      <th>Cardio</th>\n",
              "      <th>FatBurn</th>\n",
              "      <th>Mode</th>\n",
              "      <th>Minutes</th>\n",
              "      <th>Gender</th>\n",
              "      <th>Age</th>\n",
              "      <th>GPA</th>\n",
              "      <th>Life Score</th>\n",
              "    </tr>\n",
              "  </thead>\n",
              "  <tbody>\n",
              "    <tr>\n",
              "      <th>0</th>\n",
              "      <td>1</td>\n",
              "      <td>11157</td>\n",
              "      <td>0.13</td>\n",
              "      <td>3.86</td>\n",
              "      <td>111.92</td>\n",
              "      <td>1</td>\n",
              "      <td>9.35</td>\n",
              "      <td>1</td>\n",
              "      <td>23</td>\n",
              "      <td>4.00</td>\n",
              "      <td>48</td>\n",
              "    </tr>\n",
              "    <tr>\n",
              "      <th>1</th>\n",
              "      <td>2</td>\n",
              "      <td>7986</td>\n",
              "      <td>2.72</td>\n",
              "      <td>15.53</td>\n",
              "      <td>249.29</td>\n",
              "      <td>1</td>\n",
              "      <td>8.20</td>\n",
              "      <td>1</td>\n",
              "      <td>18</td>\n",
              "      <td>3.26</td>\n",
              "      <td>101</td>\n",
              "    </tr>\n",
              "    <tr>\n",
              "      <th>2</th>\n",
              "      <td>3</td>\n",
              "      <td>11602</td>\n",
              "      <td>0.35</td>\n",
              "      <td>2.10</td>\n",
              "      <td>195.32</td>\n",
              "      <td>0</td>\n",
              "      <td>12.73</td>\n",
              "      <td>0</td>\n",
              "      <td>18</td>\n",
              "      <td>3.07</td>\n",
              "      <td>64</td>\n",
              "    </tr>\n",
              "    <tr>\n",
              "      <th>3</th>\n",
              "      <td>4</td>\n",
              "      <td>10609</td>\n",
              "      <td>1.00</td>\n",
              "      <td>6.51</td>\n",
              "      <td>121.75</td>\n",
              "      <td>1</td>\n",
              "      <td>10.00</td>\n",
              "      <td>1</td>\n",
              "      <td>17</td>\n",
              "      <td>4.00</td>\n",
              "      <td>41</td>\n",
              "    </tr>\n",
              "    <tr>\n",
              "      <th>4</th>\n",
              "      <td>5</td>\n",
              "      <td>14552</td>\n",
              "      <td>9.10</td>\n",
              "      <td>6.09</td>\n",
              "      <td>109.66</td>\n",
              "      <td>1</td>\n",
              "      <td>8.63</td>\n",
              "      <td>0</td>\n",
              "      <td>18</td>\n",
              "      <td>2.87</td>\n",
              "      <td>83</td>\n",
              "    </tr>\n",
              "  </tbody>\n",
              "</table>\n",
              "</div>\n",
              "      <button class=\"colab-df-convert\" onclick=\"convertToInteractive('df-dabb8b16-4b33-43d5-92fb-842799ecc707')\"\n",
              "              title=\"Convert this dataframe to an interactive table.\"\n",
              "              style=\"display:none;\">\n",
              "        \n",
              "  <svg xmlns=\"http://www.w3.org/2000/svg\" height=\"24px\"viewBox=\"0 0 24 24\"\n",
              "       width=\"24px\">\n",
              "    <path d=\"M0 0h24v24H0V0z\" fill=\"none\"/>\n",
              "    <path d=\"M18.56 5.44l.94 2.06.94-2.06 2.06-.94-2.06-.94-.94-2.06-.94 2.06-2.06.94zm-11 1L8.5 8.5l.94-2.06 2.06-.94-2.06-.94L8.5 2.5l-.94 2.06-2.06.94zm10 10l.94 2.06.94-2.06 2.06-.94-2.06-.94-.94-2.06-.94 2.06-2.06.94z\"/><path d=\"M17.41 7.96l-1.37-1.37c-.4-.4-.92-.59-1.43-.59-.52 0-1.04.2-1.43.59L10.3 9.45l-7.72 7.72c-.78.78-.78 2.05 0 2.83L4 21.41c.39.39.9.59 1.41.59.51 0 1.02-.2 1.41-.59l7.78-7.78 2.81-2.81c.8-.78.8-2.07 0-2.86zM5.41 20L4 18.59l7.72-7.72 1.47 1.35L5.41 20z\"/>\n",
              "  </svg>\n",
              "      </button>\n",
              "      \n",
              "  <style>\n",
              "    .colab-df-container {\n",
              "      display:flex;\n",
              "      flex-wrap:wrap;\n",
              "      gap: 12px;\n",
              "    }\n",
              "\n",
              "    .colab-df-convert {\n",
              "      background-color: #E8F0FE;\n",
              "      border: none;\n",
              "      border-radius: 50%;\n",
              "      cursor: pointer;\n",
              "      display: none;\n",
              "      fill: #1967D2;\n",
              "      height: 32px;\n",
              "      padding: 0 0 0 0;\n",
              "      width: 32px;\n",
              "    }\n",
              "\n",
              "    .colab-df-convert:hover {\n",
              "      background-color: #E2EBFA;\n",
              "      box-shadow: 0px 1px 2px rgba(60, 64, 67, 0.3), 0px 1px 3px 1px rgba(60, 64, 67, 0.15);\n",
              "      fill: #174EA6;\n",
              "    }\n",
              "\n",
              "    [theme=dark] .colab-df-convert {\n",
              "      background-color: #3B4455;\n",
              "      fill: #D2E3FC;\n",
              "    }\n",
              "\n",
              "    [theme=dark] .colab-df-convert:hover {\n",
              "      background-color: #434B5C;\n",
              "      box-shadow: 0px 1px 3px 1px rgba(0, 0, 0, 0.15);\n",
              "      filter: drop-shadow(0px 1px 2px rgba(0, 0, 0, 0.3));\n",
              "      fill: #FFFFFF;\n",
              "    }\n",
              "  </style>\n",
              "\n",
              "      <script>\n",
              "        const buttonEl =\n",
              "          document.querySelector('#df-dabb8b16-4b33-43d5-92fb-842799ecc707 button.colab-df-convert');\n",
              "        buttonEl.style.display =\n",
              "          google.colab.kernel.accessAllowed ? 'block' : 'none';\n",
              "\n",
              "        async function convertToInteractive(key) {\n",
              "          const element = document.querySelector('#df-dabb8b16-4b33-43d5-92fb-842799ecc707');\n",
              "          const dataTable =\n",
              "            await google.colab.kernel.invokeFunction('convertToInteractive',\n",
              "                                                     [key], {});\n",
              "          if (!dataTable) return;\n",
              "\n",
              "          const docLinkHtml = 'Like what you see? Visit the ' +\n",
              "            '<a target=\"_blank\" href=https://colab.research.google.com/notebooks/data_table.ipynb>data table notebook</a>'\n",
              "            + ' to learn more about interactive tables.';\n",
              "          element.innerHTML = '';\n",
              "          dataTable['output_type'] = 'display_data';\n",
              "          await google.colab.output.renderOutput(dataTable, element);\n",
              "          const docLink = document.createElement('div');\n",
              "          docLink.innerHTML = docLinkHtml;\n",
              "          element.appendChild(docLink);\n",
              "        }\n",
              "      </script>\n",
              "    </div>\n",
              "  </div>\n",
              "  "
            ]
          },
          "metadata": {},
          "execution_count": 18
        }
      ]
    },
    {
      "cell_type": "code",
      "source": [
        "df.info()"
      ],
      "metadata": {
        "colab": {
          "base_uri": "https://localhost:8080/",
          "height": 0
        },
        "id": "OXV924ZWz5Gw",
        "outputId": "c9377227-9a59-41bf-f8e1-d3edb3392567"
      },
      "execution_count": 19,
      "outputs": [
        {
          "output_type": "stream",
          "name": "stdout",
          "text": [
            "<class 'pandas.core.frame.DataFrame'>\n",
            "RangeIndex: 581 entries, 0 to 580\n",
            "Data columns (total 11 columns):\n",
            " #   Column      Non-Null Count  Dtype  \n",
            "---  ------      --------------  -----  \n",
            " 0   Key         581 non-null    int64  \n",
            " 1   Steps       581 non-null    int64  \n",
            " 2   Peak        581 non-null    float64\n",
            " 3   Cardio      581 non-null    float64\n",
            " 4   FatBurn     581 non-null    float64\n",
            " 5   Mode        581 non-null    int64  \n",
            " 6   Minutes     581 non-null    float64\n",
            " 7   Gender      581 non-null    int64  \n",
            " 8   Age         581 non-null    int64  \n",
            " 9   GPA         581 non-null    float64\n",
            " 10  Life Score  581 non-null    int64  \n",
            "dtypes: float64(5), int64(6)\n",
            "memory usage: 50.1 KB\n"
          ]
        }
      ]
    },
    {
      "cell_type": "code",
      "source": [
        "# set independent variable/attribute/predictor/feature sampai kolom bio\n",
        "x = df[df.columns[:10]]\n",
        " \n",
        "# set dependent variable/clas/target/label\n",
        "y = df['Life Score']"
      ],
      "metadata": {
        "id": "KkbKenwFz6f4"
      },
      "execution_count": 21,
      "outputs": []
    },
    {
      "cell_type": "code",
      "source": [
        "# hasil x\n",
        "\n",
        "x"
      ],
      "metadata": {
        "colab": {
          "base_uri": "https://localhost:8080/",
          "height": 423
        },
        "id": "PbpXRTbj0Bgn",
        "outputId": "3e2603ef-d0af-46ba-bdb3-7b50995158b2"
      },
      "execution_count": 22,
      "outputs": [
        {
          "output_type": "execute_result",
          "data": {
            "text/plain": [
              "     Key  Steps  Peak  Cardio  FatBurn  Mode  Minutes  Gender  Age   GPA\n",
              "0      1  11157  0.13    3.86   111.92     1     9.35       1   23  4.00\n",
              "1      2   7986  2.72   15.53   249.29     1     8.20       1   18  3.26\n",
              "2      3  11602  0.35    2.10   195.32     0    12.73       0   18  3.07\n",
              "3      4  10609  1.00    6.51   121.75     1    10.00       1   17  4.00\n",
              "4      5  14552  9.10    6.09   109.66     1     8.63       0   18  2.87\n",
              "..   ...    ...   ...     ...      ...   ...      ...     ...  ...   ...\n",
              "576  577  10445  2.55   11.02   194.46     1     8.53       1   18  3.73\n",
              "577  578  13537  0.10    1.54    87.39     1     6.55       0   18  3.93\n",
              "578  579   7653  0.38    2.64    68.24     1     7.63       0   18  2.92\n",
              "579  580  13828  3.17    8.00   189.69     1     8.25       1   18  3.94\n",
              "580  581   7711  2.29    2.49    50.41     1     7.50       0   19  3.52\n",
              "\n",
              "[581 rows x 10 columns]"
            ],
            "text/html": [
              "\n",
              "  <div id=\"df-d6b0e77f-d194-4dfa-956a-e8bd533b9fc2\">\n",
              "    <div class=\"colab-df-container\">\n",
              "      <div>\n",
              "<style scoped>\n",
              "    .dataframe tbody tr th:only-of-type {\n",
              "        vertical-align: middle;\n",
              "    }\n",
              "\n",
              "    .dataframe tbody tr th {\n",
              "        vertical-align: top;\n",
              "    }\n",
              "\n",
              "    .dataframe thead th {\n",
              "        text-align: right;\n",
              "    }\n",
              "</style>\n",
              "<table border=\"1\" class=\"dataframe\">\n",
              "  <thead>\n",
              "    <tr style=\"text-align: right;\">\n",
              "      <th></th>\n",
              "      <th>Key</th>\n",
              "      <th>Steps</th>\n",
              "      <th>Peak</th>\n",
              "      <th>Cardio</th>\n",
              "      <th>FatBurn</th>\n",
              "      <th>Mode</th>\n",
              "      <th>Minutes</th>\n",
              "      <th>Gender</th>\n",
              "      <th>Age</th>\n",
              "      <th>GPA</th>\n",
              "    </tr>\n",
              "  </thead>\n",
              "  <tbody>\n",
              "    <tr>\n",
              "      <th>0</th>\n",
              "      <td>1</td>\n",
              "      <td>11157</td>\n",
              "      <td>0.13</td>\n",
              "      <td>3.86</td>\n",
              "      <td>111.92</td>\n",
              "      <td>1</td>\n",
              "      <td>9.35</td>\n",
              "      <td>1</td>\n",
              "      <td>23</td>\n",
              "      <td>4.00</td>\n",
              "    </tr>\n",
              "    <tr>\n",
              "      <th>1</th>\n",
              "      <td>2</td>\n",
              "      <td>7986</td>\n",
              "      <td>2.72</td>\n",
              "      <td>15.53</td>\n",
              "      <td>249.29</td>\n",
              "      <td>1</td>\n",
              "      <td>8.20</td>\n",
              "      <td>1</td>\n",
              "      <td>18</td>\n",
              "      <td>3.26</td>\n",
              "    </tr>\n",
              "    <tr>\n",
              "      <th>2</th>\n",
              "      <td>3</td>\n",
              "      <td>11602</td>\n",
              "      <td>0.35</td>\n",
              "      <td>2.10</td>\n",
              "      <td>195.32</td>\n",
              "      <td>0</td>\n",
              "      <td>12.73</td>\n",
              "      <td>0</td>\n",
              "      <td>18</td>\n",
              "      <td>3.07</td>\n",
              "    </tr>\n",
              "    <tr>\n",
              "      <th>3</th>\n",
              "      <td>4</td>\n",
              "      <td>10609</td>\n",
              "      <td>1.00</td>\n",
              "      <td>6.51</td>\n",
              "      <td>121.75</td>\n",
              "      <td>1</td>\n",
              "      <td>10.00</td>\n",
              "      <td>1</td>\n",
              "      <td>17</td>\n",
              "      <td>4.00</td>\n",
              "    </tr>\n",
              "    <tr>\n",
              "      <th>4</th>\n",
              "      <td>5</td>\n",
              "      <td>14552</td>\n",
              "      <td>9.10</td>\n",
              "      <td>6.09</td>\n",
              "      <td>109.66</td>\n",
              "      <td>1</td>\n",
              "      <td>8.63</td>\n",
              "      <td>0</td>\n",
              "      <td>18</td>\n",
              "      <td>2.87</td>\n",
              "    </tr>\n",
              "    <tr>\n",
              "      <th>...</th>\n",
              "      <td>...</td>\n",
              "      <td>...</td>\n",
              "      <td>...</td>\n",
              "      <td>...</td>\n",
              "      <td>...</td>\n",
              "      <td>...</td>\n",
              "      <td>...</td>\n",
              "      <td>...</td>\n",
              "      <td>...</td>\n",
              "      <td>...</td>\n",
              "    </tr>\n",
              "    <tr>\n",
              "      <th>576</th>\n",
              "      <td>577</td>\n",
              "      <td>10445</td>\n",
              "      <td>2.55</td>\n",
              "      <td>11.02</td>\n",
              "      <td>194.46</td>\n",
              "      <td>1</td>\n",
              "      <td>8.53</td>\n",
              "      <td>1</td>\n",
              "      <td>18</td>\n",
              "      <td>3.73</td>\n",
              "    </tr>\n",
              "    <tr>\n",
              "      <th>577</th>\n",
              "      <td>578</td>\n",
              "      <td>13537</td>\n",
              "      <td>0.10</td>\n",
              "      <td>1.54</td>\n",
              "      <td>87.39</td>\n",
              "      <td>1</td>\n",
              "      <td>6.55</td>\n",
              "      <td>0</td>\n",
              "      <td>18</td>\n",
              "      <td>3.93</td>\n",
              "    </tr>\n",
              "    <tr>\n",
              "      <th>578</th>\n",
              "      <td>579</td>\n",
              "      <td>7653</td>\n",
              "      <td>0.38</td>\n",
              "      <td>2.64</td>\n",
              "      <td>68.24</td>\n",
              "      <td>1</td>\n",
              "      <td>7.63</td>\n",
              "      <td>0</td>\n",
              "      <td>18</td>\n",
              "      <td>2.92</td>\n",
              "    </tr>\n",
              "    <tr>\n",
              "      <th>579</th>\n",
              "      <td>580</td>\n",
              "      <td>13828</td>\n",
              "      <td>3.17</td>\n",
              "      <td>8.00</td>\n",
              "      <td>189.69</td>\n",
              "      <td>1</td>\n",
              "      <td>8.25</td>\n",
              "      <td>1</td>\n",
              "      <td>18</td>\n",
              "      <td>3.94</td>\n",
              "    </tr>\n",
              "    <tr>\n",
              "      <th>580</th>\n",
              "      <td>581</td>\n",
              "      <td>7711</td>\n",
              "      <td>2.29</td>\n",
              "      <td>2.49</td>\n",
              "      <td>50.41</td>\n",
              "      <td>1</td>\n",
              "      <td>7.50</td>\n",
              "      <td>0</td>\n",
              "      <td>19</td>\n",
              "      <td>3.52</td>\n",
              "    </tr>\n",
              "  </tbody>\n",
              "</table>\n",
              "<p>581 rows × 10 columns</p>\n",
              "</div>\n",
              "      <button class=\"colab-df-convert\" onclick=\"convertToInteractive('df-d6b0e77f-d194-4dfa-956a-e8bd533b9fc2')\"\n",
              "              title=\"Convert this dataframe to an interactive table.\"\n",
              "              style=\"display:none;\">\n",
              "        \n",
              "  <svg xmlns=\"http://www.w3.org/2000/svg\" height=\"24px\"viewBox=\"0 0 24 24\"\n",
              "       width=\"24px\">\n",
              "    <path d=\"M0 0h24v24H0V0z\" fill=\"none\"/>\n",
              "    <path d=\"M18.56 5.44l.94 2.06.94-2.06 2.06-.94-2.06-.94-.94-2.06-.94 2.06-2.06.94zm-11 1L8.5 8.5l.94-2.06 2.06-.94-2.06-.94L8.5 2.5l-.94 2.06-2.06.94zm10 10l.94 2.06.94-2.06 2.06-.94-2.06-.94-.94-2.06-.94 2.06-2.06.94z\"/><path d=\"M17.41 7.96l-1.37-1.37c-.4-.4-.92-.59-1.43-.59-.52 0-1.04.2-1.43.59L10.3 9.45l-7.72 7.72c-.78.78-.78 2.05 0 2.83L4 21.41c.39.39.9.59 1.41.59.51 0 1.02-.2 1.41-.59l7.78-7.78 2.81-2.81c.8-.78.8-2.07 0-2.86zM5.41 20L4 18.59l7.72-7.72 1.47 1.35L5.41 20z\"/>\n",
              "  </svg>\n",
              "      </button>\n",
              "      \n",
              "  <style>\n",
              "    .colab-df-container {\n",
              "      display:flex;\n",
              "      flex-wrap:wrap;\n",
              "      gap: 12px;\n",
              "    }\n",
              "\n",
              "    .colab-df-convert {\n",
              "      background-color: #E8F0FE;\n",
              "      border: none;\n",
              "      border-radius: 50%;\n",
              "      cursor: pointer;\n",
              "      display: none;\n",
              "      fill: #1967D2;\n",
              "      height: 32px;\n",
              "      padding: 0 0 0 0;\n",
              "      width: 32px;\n",
              "    }\n",
              "\n",
              "    .colab-df-convert:hover {\n",
              "      background-color: #E2EBFA;\n",
              "      box-shadow: 0px 1px 2px rgba(60, 64, 67, 0.3), 0px 1px 3px 1px rgba(60, 64, 67, 0.15);\n",
              "      fill: #174EA6;\n",
              "    }\n",
              "\n",
              "    [theme=dark] .colab-df-convert {\n",
              "      background-color: #3B4455;\n",
              "      fill: #D2E3FC;\n",
              "    }\n",
              "\n",
              "    [theme=dark] .colab-df-convert:hover {\n",
              "      background-color: #434B5C;\n",
              "      box-shadow: 0px 1px 3px 1px rgba(0, 0, 0, 0.15);\n",
              "      filter: drop-shadow(0px 1px 2px rgba(0, 0, 0, 0.3));\n",
              "      fill: #FFFFFF;\n",
              "    }\n",
              "  </style>\n",
              "\n",
              "      <script>\n",
              "        const buttonEl =\n",
              "          document.querySelector('#df-d6b0e77f-d194-4dfa-956a-e8bd533b9fc2 button.colab-df-convert');\n",
              "        buttonEl.style.display =\n",
              "          google.colab.kernel.accessAllowed ? 'block' : 'none';\n",
              "\n",
              "        async function convertToInteractive(key) {\n",
              "          const element = document.querySelector('#df-d6b0e77f-d194-4dfa-956a-e8bd533b9fc2');\n",
              "          const dataTable =\n",
              "            await google.colab.kernel.invokeFunction('convertToInteractive',\n",
              "                                                     [key], {});\n",
              "          if (!dataTable) return;\n",
              "\n",
              "          const docLinkHtml = 'Like what you see? Visit the ' +\n",
              "            '<a target=\"_blank\" href=https://colab.research.google.com/notebooks/data_table.ipynb>data table notebook</a>'\n",
              "            + ' to learn more about interactive tables.';\n",
              "          element.innerHTML = '';\n",
              "          dataTable['output_type'] = 'display_data';\n",
              "          await google.colab.output.renderOutput(dataTable, element);\n",
              "          const docLink = document.createElement('div');\n",
              "          docLink.innerHTML = docLinkHtml;\n",
              "          element.appendChild(docLink);\n",
              "        }\n",
              "      </script>\n",
              "    </div>\n",
              "  </div>\n",
              "  "
            ]
          },
          "metadata": {},
          "execution_count": 22
        }
      ]
    },
    {
      "cell_type": "code",
      "source": [
        "# hasil y\n",
        "\n",
        "y"
      ],
      "metadata": {
        "colab": {
          "base_uri": "https://localhost:8080/",
          "height": 0
        },
        "id": "p4l4HsHQ0E3q",
        "outputId": "ad34ff55-590d-41c3-dc19-95abe54d4b26"
      },
      "execution_count": 23,
      "outputs": [
        {
          "output_type": "execute_result",
          "data": {
            "text/plain": [
              "0       48\n",
              "1      101\n",
              "2       64\n",
              "3       41\n",
              "4       83\n",
              "      ... \n",
              "576     57\n",
              "577     53\n",
              "578     70\n",
              "579     73\n",
              "580     79\n",
              "Name: Life Score, Length: 581, dtype: int64"
            ]
          },
          "metadata": {},
          "execution_count": 23
        }
      ]
    },
    {
      "cell_type": "markdown",
      "source": [
        "# Modeling\n",
        "\n",
        "Membahas mengenai proses Fiting Model, set parameter-parameter dll."
      ],
      "metadata": {
        "id": "y2Dx9VSj0KuD"
      }
    },
    {
      "cell_type": "code",
      "source": [
        "#import package model selection dari SKLearn\n",
        "from sklearn.model_selection import train_test_split"
      ],
      "metadata": {
        "id": "85RZR5yQ0Mlx"
      },
      "execution_count": 24,
      "outputs": []
    },
    {
      "cell_type": "code",
      "source": [
        "#membagi data training dan data testing\n",
        "x_train, x_test, y_train, y_test = train_test_split(x, y, test_size=0.20)"
      ],
      "metadata": {
        "id": "ldskAIfI0Qqy"
      },
      "execution_count": 25,
      "outputs": []
    },
    {
      "cell_type": "code",
      "source": [
        "#mengaktifkan package dan syntax untuk mengubah skala data\n",
        "from sklearn.preprocessing import StandardScaler\n",
        "\n",
        "scaler = StandardScaler()\n",
        "scaler.fit(x_train)\n",
        "\n",
        "x_train = scaler.transform(x_train)\n",
        "x_test = scaler.transform(x_test)"
      ],
      "metadata": {
        "id": "yV-rECyD0R_q"
      },
      "execution_count": 26,
      "outputs": []
    },
    {
      "cell_type": "code",
      "source": [
        "#mengaktifkan packages untuk klasifikasi KNN dengan mengimport packages KNeighbors Classifier dari SKLearn \n",
        "from sklearn.neighbors import KNeighborsClassifier"
      ],
      "metadata": {
        "id": "0IvPKeY71u4i"
      },
      "execution_count": 28,
      "outputs": []
    },
    {
      "cell_type": "code",
      "source": [
        "#mengaktifkan fungsi classifikasi untuk KNN\n",
        "knn = KNeighborsClassifier (n_neighbors=4)"
      ],
      "metadata": {
        "id": "pq_-nz_o2EQb"
      },
      "execution_count": 29,
      "outputs": []
    },
    {
      "cell_type": "code",
      "source": [
        "#memasukkan data training pada fungsi classifikasi untuk KNN\n",
        "knn.fit(x_train, y_train)"
      ],
      "metadata": {
        "colab": {
          "base_uri": "https://localhost:8080/",
          "height": 0
        },
        "id": "QsOitm7f2OD6",
        "outputId": "44a9c6be-439a-4d6f-e9b1-b4274b6b90e0"
      },
      "execution_count": 30,
      "outputs": [
        {
          "output_type": "execute_result",
          "data": {
            "text/plain": [
              "KNeighborsClassifier(n_neighbors=4)"
            ]
          },
          "metadata": {},
          "execution_count": 30
        }
      ]
    },
    {
      "cell_type": "code",
      "source": [
        "#menentukan prediksi\n",
        "y_pred = knn.predict (x_test)\n",
        "y_pred"
      ],
      "metadata": {
        "colab": {
          "base_uri": "https://localhost:8080/",
          "height": 0
        },
        "id": "Zx3hOABk2XjA",
        "outputId": "45b1abe2-9876-43a4-97aa-db615563c664"
      },
      "execution_count": 31,
      "outputs": [
        {
          "output_type": "execute_result",
          "data": {
            "text/plain": [
              "array([57, 52, 65, 43, 64, 59, 65, 49, 35, 41, 43, 46, 43, 46, 41, 53, 46,\n",
              "       51, 47, 46, 65, 51, 57, 63, 48, 44, 52, 64, 51, 65, 43, 56, 67, 58,\n",
              "       35, 51, 35, 45, 64, 51, 43, 41, 56, 68, 49, 46, 71, 49, 61, 52, 55,\n",
              "       61, 67, 55, 53, 61, 55, 63, 64, 52, 61, 46, 42, 35, 55, 44, 52, 47,\n",
              "       49, 41, 50, 62, 55, 56, 58, 49, 67, 38, 52, 56, 51, 49, 53, 71, 46,\n",
              "       43, 56, 52, 68, 48, 51, 56, 63, 35, 44, 37, 39, 48, 62, 66, 66, 73,\n",
              "       64, 56, 55, 48, 56, 35, 52, 46, 59, 46, 35, 59, 35, 55, 46])"
            ]
          },
          "metadata": {},
          "execution_count": 31
        }
      ]
    },
    {
      "cell_type": "code",
      "source": [
        "#menentukan probabilitas prediksi\n",
        "knn.predict_proba(x_test)"
      ],
      "metadata": {
        "colab": {
          "base_uri": "https://localhost:8080/",
          "height": 0
        },
        "id": "_ev4ueLR2g4j",
        "outputId": "d919b524-41ba-4242-b37c-8eec68f70006"
      },
      "execution_count": 32,
      "outputs": [
        {
          "output_type": "execute_result",
          "data": {
            "text/plain": [
              "array([[0.  , 0.  , 0.  , ..., 0.  , 0.  , 0.  ],\n",
              "       [0.  , 0.  , 0.  , ..., 0.  , 0.  , 0.  ],\n",
              "       [0.  , 0.  , 0.  , ..., 0.  , 0.  , 0.  ],\n",
              "       ...,\n",
              "       [0.25, 0.  , 0.  , ..., 0.  , 0.  , 0.  ],\n",
              "       [0.  , 0.  , 0.  , ..., 0.  , 0.  , 0.  ],\n",
              "       [0.  , 0.  , 0.  , ..., 0.  , 0.  , 0.  ]])"
            ]
          },
          "metadata": {},
          "execution_count": 32
        }
      ]
    },
    {
      "cell_type": "code",
      "source": [
        "#import package untuk melihat keakuratan data prediksi dengan data aktual\n",
        "from sklearn.metrics import classification_report, confusion_matrix"
      ],
      "metadata": {
        "id": "nonRSIWn2o_E"
      },
      "execution_count": 39,
      "outputs": []
    },
    {
      "cell_type": "markdown",
      "source": [
        "# Evaluasi\n",
        "\n",
        "Membahas mengenai hasil pengujian terhadap model."
      ],
      "metadata": {
        "id": "tHvXFi9g_6Cf"
      }
    },
    {
      "cell_type": "code",
      "source": [
        "#menampilkan matriks hasil prediksi\n",
        "print(confusion_matrix(y_test, y_pred))"
      ],
      "metadata": {
        "colab": {
          "base_uri": "https://localhost:8080/",
          "height": 0
        },
        "id": "lhHQi9p726lO",
        "outputId": "8180b389-e8aa-4ff3-bc7f-6df80adab127"
      },
      "execution_count": 42,
      "outputs": [
        {
          "output_type": "stream",
          "name": "stdout",
          "text": [
            "[[0 0 0 ... 0 0 0]\n",
            " [0 0 0 ... 0 0 0]\n",
            " [0 0 0 ... 0 0 0]\n",
            " ...\n",
            " [0 0 0 ... 0 0 0]\n",
            " [0 0 0 ... 0 0 0]\n",
            " [0 0 0 ... 0 0 0]]\n"
          ]
        }
      ]
    },
    {
      "cell_type": "code",
      "source": [
        "#Ketepatan hasil prediksi\n",
        "print(classification_report(y_test, y_pred))"
      ],
      "metadata": {
        "colab": {
          "base_uri": "https://localhost:8080/",
          "height": 0
        },
        "id": "d-3V48hR3LQC",
        "outputId": "a930e7cf-9f1c-4b43-b37e-4689d17da600"
      },
      "execution_count": 43,
      "outputs": [
        {
          "output_type": "stream",
          "name": "stdout",
          "text": [
            "              precision    recall  f1-score   support\n",
            "\n",
            "          35       0.00      0.00      0.00       1.0\n",
            "          37       0.00      0.00      0.00       2.0\n",
            "          38       0.00      0.00      0.00       0.0\n",
            "          39       0.00      0.00      0.00       0.0\n",
            "          40       0.00      0.00      0.00       3.0\n",
            "          41       0.00      0.00      0.00       0.0\n",
            "          42       0.00      0.00      0.00       0.0\n",
            "          43       0.00      0.00      0.00       0.0\n",
            "          44       0.00      0.00      0.00       0.0\n",
            "          45       0.00      0.00      0.00       1.0\n",
            "          46       0.00      0.00      0.00       0.0\n",
            "          47       0.00      0.00      0.00       1.0\n",
            "          48       0.00      0.00      0.00       0.0\n",
            "          49       0.00      0.00      0.00       1.0\n",
            "          50       0.00      0.00      0.00       2.0\n",
            "          51       0.00      0.00      0.00       3.0\n",
            "          52       0.00      0.00      0.00       3.0\n",
            "          53       0.00      0.00      0.00       2.0\n",
            "          54       0.00      0.00      0.00       2.0\n",
            "          55       0.00      0.00      0.00       2.0\n",
            "          56       0.00      0.00      0.00       1.0\n",
            "          57       0.00      0.00      0.00       1.0\n",
            "          58       0.00      0.00      0.00       1.0\n",
            "          59       0.00      0.00      0.00       3.0\n",
            "          60       0.00      0.00      0.00       2.0\n",
            "          61       0.00      0.00      0.00       1.0\n",
            "          62       0.00      0.00      0.00       1.0\n",
            "          63       0.00      0.00      0.00       6.0\n",
            "          64       0.00      0.00      0.00       3.0\n",
            "          65       0.00      0.00      0.00       6.0\n",
            "          66       0.00      0.00      0.00       2.0\n",
            "          67       0.00      0.00      0.00       1.0\n",
            "          68       0.00      0.00      0.00       3.0\n",
            "          69       0.00      0.00      0.00       2.0\n",
            "          70       0.00      0.00      0.00       3.0\n",
            "          71       0.00      0.00      0.00       2.0\n",
            "          72       0.00      0.00      0.00       2.0\n",
            "          73       0.00      0.00      0.00       1.0\n",
            "          74       0.00      0.00      0.00       2.0\n",
            "          75       0.00      0.00      0.00       1.0\n",
            "          76       0.00      0.00      0.00       1.0\n",
            "          77       0.00      0.00      0.00       1.0\n",
            "          78       0.00      0.00      0.00       1.0\n",
            "          79       0.00      0.00      0.00       1.0\n",
            "          80       0.00      0.00      0.00       1.0\n",
            "          81       0.00      0.00      0.00       2.0\n",
            "          82       0.00      0.00      0.00       4.0\n",
            "          83       0.00      0.00      0.00       3.0\n",
            "          84       0.00      0.00      0.00       3.0\n",
            "          85       0.00      0.00      0.00       2.0\n",
            "          86       0.00      0.00      0.00       2.0\n",
            "          87       0.00      0.00      0.00       2.0\n",
            "          88       0.00      0.00      0.00       1.0\n",
            "          90       0.00      0.00      0.00       1.0\n",
            "          91       0.00      0.00      0.00       2.0\n",
            "          92       0.00      0.00      0.00       4.0\n",
            "          93       0.00      0.00      0.00       3.0\n",
            "          94       0.00      0.00      0.00       4.0\n",
            "          95       0.00      0.00      0.00       2.0\n",
            "          96       0.00      0.00      0.00       2.0\n",
            "          99       0.00      0.00      0.00       1.0\n",
            "         100       0.00      0.00      0.00       2.0\n",
            "         107       0.00      0.00      0.00       1.0\n",
            "         110       0.00      0.00      0.00       1.0\n",
            "         112       0.00      0.00      0.00       1.0\n",
            "         114       0.00      0.00      0.00       1.0\n",
            "         117       0.00      0.00      0.00       1.0\n",
            "\n",
            "    accuracy                           0.00     117.0\n",
            "   macro avg       0.00      0.00      0.00     117.0\n",
            "weighted avg       0.00      0.00      0.00     117.0\n",
            "\n"
          ]
        },
        {
          "output_type": "stream",
          "name": "stderr",
          "text": [
            "/usr/local/lib/python3.7/dist-packages/sklearn/metrics/_classification.py:1318: UndefinedMetricWarning: Precision and F-score are ill-defined and being set to 0.0 in labels with no predicted samples. Use `zero_division` parameter to control this behavior.\n",
            "  _warn_prf(average, modifier, msg_start, len(result))\n",
            "/usr/local/lib/python3.7/dist-packages/sklearn/metrics/_classification.py:1318: UndefinedMetricWarning: Recall and F-score are ill-defined and being set to 0.0 in labels with no true samples. Use `zero_division` parameter to control this behavior.\n",
            "  _warn_prf(average, modifier, msg_start, len(result))\n",
            "/usr/local/lib/python3.7/dist-packages/sklearn/metrics/_classification.py:1318: UndefinedMetricWarning: Precision and F-score are ill-defined and being set to 0.0 in labels with no predicted samples. Use `zero_division` parameter to control this behavior.\n",
            "  _warn_prf(average, modifier, msg_start, len(result))\n",
            "/usr/local/lib/python3.7/dist-packages/sklearn/metrics/_classification.py:1318: UndefinedMetricWarning: Recall and F-score are ill-defined and being set to 0.0 in labels with no true samples. Use `zero_division` parameter to control this behavior.\n",
            "  _warn_prf(average, modifier, msg_start, len(result))\n",
            "/usr/local/lib/python3.7/dist-packages/sklearn/metrics/_classification.py:1318: UndefinedMetricWarning: Precision and F-score are ill-defined and being set to 0.0 in labels with no predicted samples. Use `zero_division` parameter to control this behavior.\n",
            "  _warn_prf(average, modifier, msg_start, len(result))\n",
            "/usr/local/lib/python3.7/dist-packages/sklearn/metrics/_classification.py:1318: UndefinedMetricWarning: Recall and F-score are ill-defined and being set to 0.0 in labels with no true samples. Use `zero_division` parameter to control this behavior.\n",
            "  _warn_prf(average, modifier, msg_start, len(result))\n"
          ]
        }
      ]
    },
    {
      "cell_type": "markdown",
      "source": [
        "Hasil dari pengklasifikasian proyek ini mendapatkan hasil prediksi Efek dari gaya hidup sehat dan aktif secara fisik pada prestasi akademik sebesar 0%. Perlu diingat bahwa hasil ini dihitung melalui algoritma KNN, bukan dari hasil psikologis langsung di real life sehingga ada kemungkinan berbeda dengan banyak hasil penelitian ahli life style manusia."
      ],
      "metadata": {
        "id": "lu45MTKO_93G"
      }
    }
  ]
}